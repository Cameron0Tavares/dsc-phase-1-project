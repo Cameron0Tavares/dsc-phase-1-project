{
 "cells": [
  {
   "cell_type": "markdown",
   "id": "6135dabc",
   "metadata": {},
   "source": [
    "### Welcome Welcome Welcome!  \n",
    "Let's start with those pesky imports  \n",
    "And add some *style*"
   ]
  },
  {
   "cell_type": "code",
   "execution_count": 1,
   "id": "4f9a8cb7",
   "metadata": {},
   "outputs": [],
   "source": [
    "import pandas as pd\n",
    "import numpy as np\n",
    "import scipy.stats as stats\n",
    "from matplotlib import style\n",
    "import matplotlib.pyplot as plt\n",
    "\n",
    "pd.options.display.float_format = '{:,.2f}'.format\n",
    "plt.style.use('dark_background')"
   ]
  },
  {
   "cell_type": "markdown",
   "id": "98b21919",
   "metadata": {},
   "source": [
    "#### Lets start with our data.  \n",
    "### All of it"
   ]
  },
  {
   "cell_type": "code",
   "execution_count": 2,
   "id": "0c552842",
   "metadata": {},
   "outputs": [],
   "source": [
    "df = pd.read_csv('../data/all_data.csv', index_col=0)"
   ]
  },
  {
   "cell_type": "markdown",
   "id": "a349df70",
   "metadata": {},
   "source": [
    "Since we are looking purely for the Budget vs Revenue, let's lose some columns.  \n",
    "By only keeping what we need."
   ]
  },
  {
   "cell_type": "code",
   "execution_count": 3,
   "id": "430a355e",
   "metadata": {},
   "outputs": [],
   "source": [
    "## removing unrelated data\n",
    "budget_df = df[['primary_title', 'new_budget_api', 'new_ww_revenue_api']].drop_duplicates()\n",
    "## renaming for ease of access and makes updating easier if data changes\n",
    "name_dict = {'primary_title': 'Title',\n",
    "            'new_budget_api': 'Budget',\n",
    "            'new_ww_revenue_api': 'Revenue'}\n",
    "\n",
    "budget_df.rename(columns=name_dict, inplace=True)"
   ]
  },
  {
   "cell_type": "markdown",
   "id": "24c8d5e4",
   "metadata": {},
   "source": [
    "Microsoft is a big company.\n",
    "Let's remove all movies with a budget of less than $1M"
   ]
  },
  {
   "cell_type": "code",
   "execution_count": 4,
   "id": "53ba404e",
   "metadata": {},
   "outputs": [
    {
     "data": {
      "text/plain": [
       "(1122, 3)"
      ]
     },
     "execution_count": 4,
     "metadata": {},
     "output_type": "execute_result"
    }
   ],
   "source": [
    "## removing budget < 1M\n",
    "large_filter = budget_df.Budget > 1000000\n",
    "large_df1 = budget_df.loc[large_filter]\n",
    "large_df1.shape"
   ]
  },
  {
   "cell_type": "markdown",
   "id": "742e72cf",
   "metadata": {},
   "source": [
    "Looks like we have some zero revenues items.\n",
    "Lets's get rid of those"
   ]
  },
  {
   "cell_type": "code",
   "execution_count": 5,
   "id": "d9d3e241",
   "metadata": {},
   "outputs": [
    {
     "data": {
      "text/plain": [
       "(1059, 3)"
      ]
     },
     "execution_count": 5,
     "metadata": {},
     "output_type": "execute_result"
    }
   ],
   "source": [
    "zero_filter = large_df1.Revenue != 0\n",
    "large_df = large_df1.loc[zero_filter]\n",
    "large_df.shape"
   ]
  },
  {
   "cell_type": "markdown",
   "id": "e0751cd2",
   "metadata": {},
   "source": [
    "##  1059 entries?  \n",
    "Gallup would be proud, lets analyze it! </br>\n",
    "</br>\n",
    "#### Whoa, slow down  \n",
    "Let's add in two of the most common measures of financial success</br>\n",
    "</br>\n",
    "**Gross Profit** (Revenue - Budget)  \n",
    "*-and-*  \n",
    "**Net Profit Margin** ((Gross Profit / Revenue) * 100)  "
   ]
  },
  {
   "cell_type": "code",
   "execution_count": 6,
   "id": "b3cccce1",
   "metadata": {},
   "outputs": [
    {
     "name": "stderr",
     "output_type": "stream",
     "text": [
      "<ipython-input-6-0763af6f0021>:1: SettingWithCopyWarning: \n",
      "A value is trying to be set on a copy of a slice from a DataFrame.\n",
      "Try using .loc[row_indexer,col_indexer] = value instead\n",
      "\n",
      "See the caveats in the documentation: https://pandas.pydata.org/pandas-docs/stable/user_guide/indexing.html#returning-a-view-versus-a-copy\n",
      "  large_df['GrossProfit'] = large_df.Revenue - large_df.Budget\n",
      "<ipython-input-6-0763af6f0021>:2: SettingWithCopyWarning: \n",
      "A value is trying to be set on a copy of a slice from a DataFrame.\n",
      "Try using .loc[row_indexer,col_indexer] = value instead\n",
      "\n",
      "See the caveats in the documentation: https://pandas.pydata.org/pandas-docs/stable/user_guide/indexing.html#returning-a-view-versus-a-copy\n",
      "  large_df['ProfitMargin'] = large_df.GrossProfit / large_df.Revenue * 100\n"
     ]
    }
   ],
   "source": [
    "large_df['GrossProfit'] = large_df.Revenue - large_df.Budget\n",
    "large_df['ProfitMargin'] = large_df.GrossProfit / large_df.Revenue * 100"
   ]
  },
  {
   "cell_type": "code",
   "execution_count": 7,
   "id": "b0fbdb48",
   "metadata": {},
   "outputs": [
    {
     "data": {
      "text/html": [
       "<div>\n",
       "<style scoped>\n",
       "    .dataframe tbody tr th:only-of-type {\n",
       "        vertical-align: middle;\n",
       "    }\n",
       "\n",
       "    .dataframe tbody tr th {\n",
       "        vertical-align: top;\n",
       "    }\n",
       "\n",
       "    .dataframe thead th {\n",
       "        text-align: right;\n",
       "    }\n",
       "</style>\n",
       "<table border=\"1\" class=\"dataframe\">\n",
       "  <thead>\n",
       "    <tr style=\"text-align: right;\">\n",
       "      <th></th>\n",
       "      <th>Budget</th>\n",
       "      <th>Revenue</th>\n",
       "      <th>GrossProfit</th>\n",
       "      <th>ProfitMargin</th>\n",
       "    </tr>\n",
       "  </thead>\n",
       "  <tbody>\n",
       "    <tr>\n",
       "      <th>count</th>\n",
       "      <td>1,059.00</td>\n",
       "      <td>1,059.00</td>\n",
       "      <td>1,059.00</td>\n",
       "      <td>1,059.00</td>\n",
       "    </tr>\n",
       "    <tr>\n",
       "      <th>mean</th>\n",
       "      <td>56,420,269.12</td>\n",
       "      <td>187,594,691.16</td>\n",
       "      <td>131,174,422.03</td>\n",
       "      <td>-431.66</td>\n",
       "    </tr>\n",
       "    <tr>\n",
       "      <th>std</th>\n",
       "      <td>58,394,829.51</td>\n",
       "      <td>258,287,389.50</td>\n",
       "      <td>216,167,557.40</td>\n",
       "      <td>5,177.40</td>\n",
       "    </tr>\n",
       "    <tr>\n",
       "      <th>min</th>\n",
       "      <td>1,200,000.00</td>\n",
       "      <td>7,556.00</td>\n",
       "      <td>-111,007,242.00</td>\n",
       "      <td>-106,078.79</td>\n",
       "    </tr>\n",
       "    <tr>\n",
       "      <th>25%</th>\n",
       "      <td>16,000,000.00</td>\n",
       "      <td>34,152,609.00</td>\n",
       "      <td>9,483,139.00</td>\n",
       "      <td>25.11</td>\n",
       "    </tr>\n",
       "    <tr>\n",
       "      <th>50%</th>\n",
       "      <td>35,000,000.00</td>\n",
       "      <td>88,880,821.00</td>\n",
       "      <td>52,528,280.00</td>\n",
       "      <td>61.73</td>\n",
       "    </tr>\n",
       "    <tr>\n",
       "      <th>75%</th>\n",
       "      <td>75,000,000.00</td>\n",
       "      <td>220,810,709.50</td>\n",
       "      <td>147,401,897.50</td>\n",
       "      <td>77.04</td>\n",
       "    </tr>\n",
       "    <tr>\n",
       "      <th>max</th>\n",
       "      <td>380,000,000.00</td>\n",
       "      <td>2,046,239,637.00</td>\n",
       "      <td>1,746,239,637.00</td>\n",
       "      <td>98.31</td>\n",
       "    </tr>\n",
       "  </tbody>\n",
       "</table>\n",
       "</div>"
      ],
      "text/plain": [
       "              Budget          Revenue      GrossProfit  ProfitMargin\n",
       "count       1,059.00         1,059.00         1,059.00      1,059.00\n",
       "mean   56,420,269.12   187,594,691.16   131,174,422.03       -431.66\n",
       "std    58,394,829.51   258,287,389.50   216,167,557.40      5,177.40\n",
       "min     1,200,000.00         7,556.00  -111,007,242.00   -106,078.79\n",
       "25%    16,000,000.00    34,152,609.00     9,483,139.00         25.11\n",
       "50%    35,000,000.00    88,880,821.00    52,528,280.00         61.73\n",
       "75%    75,000,000.00   220,810,709.50   147,401,897.50         77.04\n",
       "max   380,000,000.00 2,046,239,637.00 1,746,239,637.00         98.31"
      ]
     },
     "execution_count": 7,
     "metadata": {},
     "output_type": "execute_result"
    }
   ],
   "source": [
    "large_df.describe()"
   ]
  },
  {
   "cell_type": "markdown",
   "id": "35745ba1",
   "metadata": {},
   "source": [
    "#### that's better. </br>\n",
    "</br>\n",
    "Let's get cracking </br>\n",
    "I'm going to test and see if Budget and Revenue are related to each other. </br>\n",
    "Aaaaaand, add a trendline for good measure.</br>"
   ]
  },
  {
   "cell_type": "code",
   "execution_count": 8,
   "id": "40c03f6b",
   "metadata": {},
   "outputs": [
    {
     "data": {
      "text/plain": [
       "[<matplotlib.lines.Line2D at 0x7f9ff07b95e0>]"
      ]
     },
     "execution_count": 8,
     "metadata": {},
     "output_type": "execute_result"
    },
    {
     "data": {
      "image/png": "[encoded data removed]",
      "text/plain": [
       "<Figure size 432x288 with 1 Axes>"
      ]
     },
     "metadata": {},
     "output_type": "display_data"
    }
   ],
   "source": [
    "x = large_df.Budget\n",
    "y = large_df.Revenue\n",
    "\n",
    "z = np.polyfit(x, y, 1)\n",
    "p = np.poly1d(z)\n",
    "\n",
    "plt.scatter(x=x, y=y)\n",
    "\n",
    "plt.plot(x, p(x))"
   ]
  },
  {
   "cell_type": "code",
   "execution_count": 9,
   "id": "e04399aa",
   "metadata": {
    "scrolled": true
   },
   "outputs": [
    {
     "data": {
      "text/plain": [
       "(array([213., 169., 176., 104.,  59.,  61.,  35.,  24.,  31.,  20.,  24.,\n",
       "         20.,  29.,   8.,  16.,  20.,   8.,  17.,   5.,   4.,   0.,  11.,\n",
       "          1.,   0.,   0.,   0.,   2.,   0.,   0.,   0.,   0.,   1.,   1.]),\n",
       " array([1.20000000e+06, 1.26787879e+07, 2.41575758e+07, 3.56363636e+07,\n",
       "        4.71151515e+07, 5.85939394e+07, 7.00727273e+07, 8.15515152e+07,\n",
       "        9.30303030e+07, 1.04509091e+08, 1.15987879e+08, 1.27466667e+08,\n",
       "        1.38945455e+08, 1.50424242e+08, 1.61903030e+08, 1.73381818e+08,\n",
       "        1.84860606e+08, 1.96339394e+08, 2.07818182e+08, 2.19296970e+08,\n",
       "        2.30775758e+08, 2.42254545e+08, 2.53733333e+08, 2.65212121e+08,\n",
       "        2.76690909e+08, 2.88169697e+08, 2.99648485e+08, 3.11127273e+08,\n",
       "        3.22606061e+08, 3.34084848e+08, 3.45563636e+08, 3.57042424e+08,\n",
       "        3.68521212e+08, 3.80000000e+08]),\n",
       " <BarContainer object of 33 artists>)"
      ]
     },
     "execution_count": 9,
     "metadata": {},
     "output_type": "execute_result"
    },
    {
     "data": {
      "image/png": "[encoded data removed]",
      "text/plain": [
       "<Figure size 432x288 with 1 Axes>"
      ]
     },
     "metadata": {},
     "output_type": "display_data"
    }
   ],
   "source": [
    "n = np.ceil(len(large_df.Budget) ** (1/ 2))\n",
    "plt.hist(x, int(n))"
   ]
  },
  {
   "cell_type": "code",
   "execution_count": 10,
   "id": "7e56241e",
   "metadata": {},
   "outputs": [
    {
     "ename": "TypeError",
     "evalue": "hist() missing 1 required positional argument: 'x'",
     "output_type": "error",
     "traceback": [
      "\u001b[0;31m---------------------------------------------------------------------------\u001b[0m",
      "\u001b[0;31mTypeError\u001b[0m                                 Traceback (most recent call last)",
      "\u001b[0;32m<ipython-input-10-85881ad87f6d>\u001b[0m in \u001b[0;36m<module>\u001b[0;34m\u001b[0m\n\u001b[0;32m----> 1\u001b[0;31m \u001b[0mplt\u001b[0m\u001b[0;34m.\u001b[0m\u001b[0mhist\u001b[0m\u001b[0;34m(\u001b[0m\u001b[0;34m)\u001b[0m\u001b[0;34m\u001b[0m\u001b[0;34m\u001b[0m\u001b[0m\n\u001b[0m",
      "\u001b[0;31mTypeError\u001b[0m: hist() missing 1 required positional argument: 'x'"
     ]
    }
   ],
   "source": [
    "plt.hist()"
   ]
  },
  {
   "cell_type": "code",
   "execution_count": 11,
   "id": "181059c1",
   "metadata": {},
   "outputs": [
    {
     "data": {
      "text/plain": [
       "(871, 5)"
      ]
     },
     "execution_count": 11,
     "metadata": {},
     "output_type": "execute_result"
    }
   ],
   "source": [
    "small_filter = large_df.ProfitMargin > 0\n",
    "small_df = large_df[small_filter]\n",
    "small_df.shape"
   ]
  },
  {
   "cell_type": "markdown",
   "id": "cb8f3c9e",
   "metadata": {},
   "source": []
  },
  {
   "cell_type": "code",
   "execution_count": 12,
   "id": "ef458840",
   "metadata": {},
   "outputs": [
    {
     "data": {
      "text/plain": [
       "{'whiskers': [<matplotlib.lines.Line2D at 0x7f9fd07e3940>,\n",
       "  <matplotlib.lines.Line2D at 0x7f9fd07e3ca0>],\n",
       " 'caps': [<matplotlib.lines.Line2D at 0x7f9fc0263040>,\n",
       "  <matplotlib.lines.Line2D at 0x7f9fc02633a0>],\n",
       " 'boxes': [<matplotlib.lines.Line2D at 0x7f9fd07e35e0>],\n",
       " 'medians': [<matplotlib.lines.Line2D at 0x7f9fc0263700>],\n",
       " 'fliers': [<matplotlib.lines.Line2D at 0x7f9fc0263a60>],\n",
       " 'means': []}"
      ]
     },
     "execution_count": 12,
     "metadata": {},
     "output_type": "execute_result"
    },
    {
     "data": {
      "image/png": "[encoded data removed]",
      "text/plain": [
       "<Figure size 432x288 with 1 Axes>"
      ]
     },
     "metadata": {},
     "output_type": "display_data"
    }
   ],
   "source": [
    "plt.boxplot(small_df.ProfitMargin)"
   ]
  },
  {
   "cell_type": "code",
   "execution_count": null,
   "id": "44686ffb",
   "metadata": {},
   "outputs": [],
   "source": [
    "small_df['ProfitMarginZ'] = stats.zscore(small_df.ProfitMargin)"
   ]
  },
  {
   "cell_type": "code",
   "execution_count": null,
   "id": "2b86220f",
   "metadata": {},
   "outputs": [],
   "source": [
    "neg_filter = large_df.Revenue != 0\n",
    "neg_df = large_df[neg_filter]\n",
    "neg_df"
   ]
  },
  {
   "cell_type": "code",
   "execution_count": null,
   "id": "524b9337",
   "metadata": {},
   "outputs": [],
   "source": []
  }
 ],
 "metadata": {
  "kernelspec": {
   "display_name": "Python (learn-env)",
   "language": "python",
   "name": "learn-env"
  },
  "language_info": {
   "codemirror_mode": {
    "name": "ipython",
    "version": 3
   },
   "file_extension": ".py",
   "mimetype": "text/x-python",
   "name": "python",
   "nbconvert_exporter": "python",
   "pygments_lexer": "ipython3",
   "version": "3.8.5"
  }
 },
 "nbformat": 4,
 "nbformat_minor": 5
}
