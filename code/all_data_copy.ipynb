{
 "cells": [
  {
   "cell_type": "code",
   "execution_count": null,
   "metadata": {},
   "outputs": [],
   "source": [
    "import pandas as pd\n",
    "\n",
    "\n",
    "# grabbing the data\n",
    "df_movie_genre_long = pd.read_csv('../data/movie_genre_long.csv', index_col=0)\n",
    "df_tmdb = pd.read_csv('../data/tmdb_filtered.csv', index_col=0)\n",
    "\n",
    "# sanity check\n",
    "df_tmdb.head()"
   ]
  },
  {
   "cell_type": "code",
   "execution_count": null,
   "metadata": {},
   "outputs": [],
   "source": [
    "# filtering extraneous columns\n",
    "df_tmdb_filtered = df_tmdb[['budget', 'revenue', 'imdb_id','vote_average','vote_count']]\n",
    "df_tmdb_filtered.rename(columns={'budget':'new_budget_api', 'revenue':'new_ww_revenue_api'}, inplace=True)\n",
    "df_tmdb_filtered.head()"
   ]
  },
  {
   "cell_type": "code",
   "execution_count": null,
   "metadata": {},
   "outputs": [],
   "source": [
    "len(df_movie_genre_long['movie_id'].unique())"
   ]
  },
  {
   "cell_type": "code",
   "execution_count": null,
   "metadata": {},
   "outputs": [],
   "source": [
    "df_movie_genre_long.info()"
   ]
  },
  {
   "cell_type": "code",
   "execution_count": null,
   "metadata": {},
   "outputs": [],
   "source": [
    "df_all_data = df_movie_genre_long.merge(df_tmdb_filtered,\n",
    "                         how='inner',\n",
    "                         left_on='movie_id',\n",
    "                         right_on='imdb_id')\n",
    "\n",
    "df_all_data['budget_diff'] = df_all_data['new_budget_api'] - df_all_data['production_budget']\n",
    "\n",
    "df_all_data"
   ]
  },
  {
   "cell_type": "code",
   "execution_count": null,
   "metadata": {},
   "outputs": [],
   "source": [
    "x = df_all_data.loc[(df_all_data['budget_diff'] != 0)  & (df_all_data['new_budget_api'] != 0)].groupby(['movie_id','primary_title']).mean().reset_index()\n",
    "x['budget_diff'].abs().mean()"
   ]
  },
  {
   "cell_type": "code",
   "execution_count": null,
   "metadata": {},
   "outputs": [],
   "source": [
    "# sanity check\n",
    "x"
   ]
  },
  {
   "cell_type": "code",
   "execution_count": null,
   "metadata": {},
   "outputs": [],
   "source": [
    "x.merge(df_all_data[['movie_id', 'primary_title']],\n",
    "       how='left',\n",
    "       on='movie_id')"
   ]
  },
  {
   "cell_type": "code",
   "execution_count": null,
   "metadata": {},
   "outputs": [],
   "source": [
    "df_all_data.drop(columns='budget_diff',inplace=True)"
   ]
  },
  {
   "cell_type": "code",
   "execution_count": null,
   "metadata": {},
   "outputs": [],
   "source": [
    "# final check of the data\n",
    "df_all_data"
   ]
  },
  {
   "cell_type": "code",
   "execution_count": null,
   "metadata": {},
   "outputs": [],
   "source": [
    "# save this dataframe as a csv\n",
    "df_all_data.to_csv('all_data.csv')"
   ]
  }
 ],
 "metadata": {
  "kernelspec": {
   "display_name": "Python (learn-env)",
   "language": "python",
   "name": "learn-env"
  },
  "language_info": {
   "codemirror_mode": {
    "name": "ipython",
    "version": 3
   },
   "file_extension": ".py",
   "mimetype": "text/x-python",
   "name": "python",
   "nbconvert_exporter": "python",
   "pygments_lexer": "ipython3",
   "version": "3.8.5"
  }
 },
 "nbformat": 4,
 "nbformat_minor": 4
}
