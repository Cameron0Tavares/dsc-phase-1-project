{
 "cells": [
  {
   "cell_type": "code",
   "execution_count": 2,
   "metadata": {},
   "outputs": [
    {
     "data": {
      "text/plain": [
       "<contextlib._GeneratorContextManager at 0x7fb9e9adf550>"
      ]
     },
     "execution_count": 2,
     "metadata": {},
     "output_type": "execute_result"
    }
   ],
   "source": [
    "import pandas as pd\n",
    "import numpy as np\n",
    "import matplotlib.pyplot as plt\n",
    "from matplotlib import style\n",
    "import seaborn as sns\n",
    "\n",
    "%matplotlib inline\n",
    "pd.options.display.float_format = '{:,.2f}'.format\n",
    "style.context('dark_background')"
   ]
  },
  {
   "cell_type": "code",
   "execution_count": 3,
   "metadata": {},
   "outputs": [],
   "source": [
    "\n",
    "\n",
    "def VisualizeMeSenpai(filter_, num_of_movies=5, top_num=10):\n",
    "    '''\n",
    "    This will create a visualization using preset styling based on microsoft colors\n",
    "    valid filter_ choices are currently: \n",
    "    actor, actress, composer, writer, director, director of photography\n",
    "    \n",
    "    num_of movies: minimum number of works that have been attributed to displayed talent\n",
    "    \n",
    "    top_num: dictates how many talents will be displayed in the graph output\n",
    "    '''\n",
    "    MIC_OR = '#F25022'\n",
    "    MIC_GR = '#7FBA00'\n",
    "    MIC_BL = '#00A4EF'\n",
    "    MIC_YL = '#FFB900'\n",
    "    MIC_GY = '#737373'\n",
    "\n",
    "    microsoft_color_list = [MIC_OR, MIC_GR, MIC_BL, MIC_YL, MIC_GY]\n",
    "\n",
    "    df = pd.read_csv('../data/all_data.csv', index_col=0)\n",
    "\n",
    "    col_dict = {'movie_id': 'Id', \n",
    "                'primary_title': 'MovieTitle',\n",
    "                'persons_name': 'PersonName',\n",
    "                'persons_job': 'PersonJob',\n",
    "                'new_budget_api': 'Budget', \n",
    "                'new_ww_revenue_api': 'Revenue'}\n",
    "\n",
    "    relevant_col = list(col_dict.keys())\n",
    "\n",
    "    people_df = df[relevant_col].drop_duplicates()\n",
    "    people_df.rename(columns=col_dict, inplace=True)\n",
    "\n",
    "    job_filter = people_df['PersonJob'] == filter_\n",
    "\n",
    "    job_df = people_df[job_filter]\n",
    "    job_count_df = job_df.groupby('PersonName').count().reset_index()\n",
    "\n",
    "    prolific_filter = job_count_df['Id'] >= num_of_movies\n",
    "\n",
    "    prolific_df = job_count_df[prolific_filter]\n",
    "    prolific_df.sort_values('Id', ascending=False).head()\n",
    "\n",
    "    job_usefulness_df = job_df.groupby('PersonName').mean().reset_index()\n",
    "    job_usefulness_df.sort_values('Revenue', ascending=False).head(30)\n",
    "\n",
    "    prolific_list = list(prolific_df.PersonName)\n",
    "    plot_df = job_usefulness_df.loc[job_usefulness_df.PersonName.isin(prolific_list)]\n",
    "    plot_df = plot_df.nlargest(top_num,'Revenue')\n",
    "    \n",
    "    ax = sns.barplot(data=plot_df, \n",
    "                     y='PersonName',\n",
    "                     x='Revenue', \n",
    "                     orient='h', \n",
    "                     color=np.random.choice(microsoft_color_list));\n",
    "    \n",
    "    ax.set(xlabel='Revenue', ylabel=filter_.title(), title=f'Average Revenue Per Movie, by {filter_.title()}')\n"
   ]
  },
  {
   "cell_type": "code",
   "execution_count": 19,
   "metadata": {},
   "outputs": [
    {
     "data": {
      "image/png": "[encoded data removed]",
      "text/plain": [
       "<Figure size 432x288 with 1 Axes>"
      ]
     },
     "metadata": {
      "needs_background": "light"
     },
     "output_type": "display_data"
    }
   ],
   "source": [
    "VisualizeMeSenpai('producer', 10, 10)"
   ]
  },
  {
   "cell_type": "code",
   "execution_count": null,
   "metadata": {},
   "outputs": [],
   "source": []
  }
 ],
 "metadata": {
  "kernelspec": {
   "display_name": "Python (learn-env)",
   "language": "python",
   "name": "learn-env"
  },
  "language_info": {
   "codemirror_mode": {
    "name": "ipython",
    "version": 3
   },
   "file_extension": ".py",
   "mimetype": "text/x-python",
   "name": "python",
   "nbconvert_exporter": "python",
   "pygments_lexer": "ipython3",
   "version": "3.8.5"
  }
 },
 "nbformat": 4,
 "nbformat_minor": 4
}
